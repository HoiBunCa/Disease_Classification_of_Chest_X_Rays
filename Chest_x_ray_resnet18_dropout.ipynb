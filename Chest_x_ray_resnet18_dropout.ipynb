{
 "cells": [
  {
   "cell_type": "code",
   "execution_count": 1,
   "metadata": {},
   "outputs": [],
   "source": [
    "import pandas as pd\n",
    "import numpy as np\n",
    "import glob\n",
    "import random\n",
    "\n",
    "import cv2\n",
    "import matplotlib.pyplot as plt\n",
    "\n",
    "from sklearn.model_selection import train_test_split\n",
    "from sklearn.metrics import confusion_matrix\n",
    "\n",
    "import torch\n",
    "from torch.utils.data import Dataset, DataLoader, sampler\n",
    "import torch.optim as optim\n",
    "import torch.nn as nn\n",
    "import torch.nn.functional as F\n",
    "from torchvision import models\n",
    "\n",
    "from apex import amp"
   ]
  },
  {
   "cell_type": "code",
   "execution_count": 2,
   "metadata": {},
   "outputs": [],
   "source": [
    "# The images are in folder images already in good shape (224, 224)\n",
    "# Retrieve path for each image\n",
    "list_path = glob.glob(\"./images/images/*.png\")"
   ]
  },
  {
   "cell_type": "code",
   "execution_count": 3,
   "metadata": {},
   "outputs": [
    {
     "data": {
      "text/plain": [
       "['./images/images/00011359_002.png',\n",
       " './images/images/00004205_010.png',\n",
       " './images/images/00016184_034.png']"
      ]
     },
     "execution_count": 3,
     "metadata": {},
     "output_type": "execute_result"
    }
   ],
   "source": [
    "list_path[:3]"
   ]
  },
  {
   "cell_type": "code",
   "execution_count": 4,
   "metadata": {},
   "outputs": [],
   "source": [
    "# Extract name of files\n",
    "files = [x.split('/')[-1] for x in list_path]"
   ]
  },
  {
   "cell_type": "code",
   "execution_count": 5,
   "metadata": {},
   "outputs": [
    {
     "data": {
      "text/plain": [
       "107121"
      ]
     },
     "execution_count": 5,
     "metadata": {},
     "output_type": "execute_result"
    }
   ],
   "source": [
    "len(files)"
   ]
  },
  {
   "cell_type": "code",
   "execution_count": 6,
   "metadata": {},
   "outputs": [
    {
     "data": {
      "text/html": [
       "<div>\n",
       "<style scoped>\n",
       "    .dataframe tbody tr th:only-of-type {\n",
       "        vertical-align: middle;\n",
       "    }\n",
       "\n",
       "    .dataframe tbody tr th {\n",
       "        vertical-align: top;\n",
       "    }\n",
       "\n",
       "    .dataframe thead th {\n",
       "        text-align: right;\n",
       "    }\n",
       "</style>\n",
       "<table border=\"1\" class=\"dataframe\">\n",
       "  <thead>\n",
       "    <tr style=\"text-align: right;\">\n",
       "      <th></th>\n",
       "      <th>Image Index</th>\n",
       "      <th>Finding Labels</th>\n",
       "      <th>Follow-up #</th>\n",
       "      <th>Patient ID</th>\n",
       "      <th>Patient Age</th>\n",
       "      <th>Patient Gender</th>\n",
       "      <th>View Position</th>\n",
       "      <th>OriginalImage[Width</th>\n",
       "      <th>Height]</th>\n",
       "      <th>OriginalImagePixelSpacing[x</th>\n",
       "      <th>y]</th>\n",
       "    </tr>\n",
       "  </thead>\n",
       "  <tbody>\n",
       "    <tr>\n",
       "      <th>0</th>\n",
       "      <td>00000001_000.png</td>\n",
       "      <td>Cardiomegaly</td>\n",
       "      <td>0</td>\n",
       "      <td>1</td>\n",
       "      <td>57</td>\n",
       "      <td>M</td>\n",
       "      <td>PA</td>\n",
       "      <td>2682</td>\n",
       "      <td>2749</td>\n",
       "      <td>0.143</td>\n",
       "      <td>0.143</td>\n",
       "    </tr>\n",
       "    <tr>\n",
       "      <th>1</th>\n",
       "      <td>00000001_001.png</td>\n",
       "      <td>Cardiomegaly|Emphysema</td>\n",
       "      <td>1</td>\n",
       "      <td>1</td>\n",
       "      <td>58</td>\n",
       "      <td>M</td>\n",
       "      <td>PA</td>\n",
       "      <td>2894</td>\n",
       "      <td>2729</td>\n",
       "      <td>0.143</td>\n",
       "      <td>0.143</td>\n",
       "    </tr>\n",
       "    <tr>\n",
       "      <th>2</th>\n",
       "      <td>00000001_002.png</td>\n",
       "      <td>Cardiomegaly|Effusion</td>\n",
       "      <td>2</td>\n",
       "      <td>1</td>\n",
       "      <td>58</td>\n",
       "      <td>M</td>\n",
       "      <td>PA</td>\n",
       "      <td>2500</td>\n",
       "      <td>2048</td>\n",
       "      <td>0.168</td>\n",
       "      <td>0.168</td>\n",
       "    </tr>\n",
       "    <tr>\n",
       "      <th>3</th>\n",
       "      <td>00000002_000.png</td>\n",
       "      <td>No Finding</td>\n",
       "      <td>0</td>\n",
       "      <td>2</td>\n",
       "      <td>80</td>\n",
       "      <td>M</td>\n",
       "      <td>PA</td>\n",
       "      <td>2500</td>\n",
       "      <td>2048</td>\n",
       "      <td>0.171</td>\n",
       "      <td>0.171</td>\n",
       "    </tr>\n",
       "    <tr>\n",
       "      <th>4</th>\n",
       "      <td>00000003_001.png</td>\n",
       "      <td>Hernia</td>\n",
       "      <td>0</td>\n",
       "      <td>3</td>\n",
       "      <td>74</td>\n",
       "      <td>F</td>\n",
       "      <td>PA</td>\n",
       "      <td>2500</td>\n",
       "      <td>2048</td>\n",
       "      <td>0.168</td>\n",
       "      <td>0.168</td>\n",
       "    </tr>\n",
       "  </tbody>\n",
       "</table>\n",
       "</div>"
      ],
      "text/plain": [
       "        Image Index          Finding Labels  Follow-up #  Patient ID  \\\n",
       "0  00000001_000.png            Cardiomegaly            0           1   \n",
       "1  00000001_001.png  Cardiomegaly|Emphysema            1           1   \n",
       "2  00000001_002.png   Cardiomegaly|Effusion            2           1   \n",
       "3  00000002_000.png              No Finding            0           2   \n",
       "4  00000003_001.png                  Hernia            0           3   \n",
       "\n",
       "   Patient Age Patient Gender View Position  OriginalImage[Width  Height]  \\\n",
       "0           57              M            PA                 2682     2749   \n",
       "1           58              M            PA                 2894     2729   \n",
       "2           58              M            PA                 2500     2048   \n",
       "3           80              M            PA                 2500     2048   \n",
       "4           74              F            PA                 2500     2048   \n",
       "\n",
       "   OriginalImagePixelSpacing[x     y]  \n",
       "0                        0.143  0.143  \n",
       "1                        0.143  0.143  \n",
       "2                        0.168  0.168  \n",
       "3                        0.171  0.171  \n",
       "4                        0.168  0.168  "
      ]
     },
     "execution_count": 6,
     "metadata": {},
     "output_type": "execute_result"
    }
   ],
   "source": [
    "df_labels = pd.read_csv('Data_Entry_2017_v2020.csv')\n",
    "df_labels.head()"
   ]
  },
  {
   "cell_type": "code",
   "execution_count": 7,
   "metadata": {},
   "outputs": [
    {
     "data": {
      "text/plain": [
       "(112120, 11)"
      ]
     },
     "execution_count": 7,
     "metadata": {},
     "output_type": "execute_result"
    }
   ],
   "source": [
    "df_labels.shape"
   ]
  },
  {
   "cell_type": "code",
   "execution_count": 8,
   "metadata": {},
   "outputs": [],
   "source": [
    "train_id = pd.read_table('train_val_list.txt', header=None)\n",
    "test_id = pd.read_table('test_list.txt', header=None)"
   ]
  },
  {
   "cell_type": "code",
   "execution_count": 9,
   "metadata": {},
   "outputs": [],
   "source": [
    "def define_data(list_path, files, df_labels, train_id, test_id):\n",
    "\n",
    "    train_id['set'] = 'train'\n",
    "    train_id.columns = ['image', 'set']\n",
    "    \n",
    "    test_id['set'] = 'test'\n",
    "    test_id.columns = ['image', 'set']\n",
    "    \n",
    "    train_val_test_ids = pd.concat([train_id, test_id])\n",
    "    \n",
    "    df = df_labels[['Image Index', 'Finding Labels']]\n",
    "    df['label'] = [1 if 'Pneumonia' in x.split('|') else 0 if x=='No Finding' else 2 for x in df['Finding Labels']]\n",
    "    df = df.drop(columns=['Finding Labels'])\n",
    "    df.columns = ['image', 'label']\n",
    "    \n",
    "    df_paths = pd.DataFrame({'path': list_path, 'image': files})\n",
    "    df = df.merge(df_paths, on='image', how='left')\n",
    "    df = df.merge(train_val_test_ids, on='image', how='left')\n",
    "    df = df.dropna()\n",
    "    sub = df[df.label != 2]\n",
    "    \n",
    "    return sub"
   ]
  },
  {
   "cell_type": "code",
   "execution_count": 10,
   "metadata": {},
   "outputs": [
    {
     "name": "stderr",
     "output_type": "stream",
     "text": [
      "/home/ubuntu/anaconda3/envs/pytorch_p36/lib/python3.6/site-packages/ipykernel_launcher.py:12: SettingWithCopyWarning: \n",
      "A value is trying to be set on a copy of a slice from a DataFrame.\n",
      "Try using .loc[row_indexer,col_indexer] = value instead\n",
      "\n",
      "See the caveats in the documentation: https://pandas.pydata.org/pandas-docs/stable/user_guide/indexing.html#returning-a-view-versus-a-copy\n",
      "  if sys.path[0] == '':\n"
     ]
    },
    {
     "data": {
      "text/html": [
       "<div>\n",
       "<style scoped>\n",
       "    .dataframe tbody tr th:only-of-type {\n",
       "        vertical-align: middle;\n",
       "    }\n",
       "\n",
       "    .dataframe tbody tr th {\n",
       "        vertical-align: top;\n",
       "    }\n",
       "\n",
       "    .dataframe thead th {\n",
       "        text-align: right;\n",
       "    }\n",
       "</style>\n",
       "<table border=\"1\" class=\"dataframe\">\n",
       "  <thead>\n",
       "    <tr style=\"text-align: right;\">\n",
       "      <th></th>\n",
       "      <th>image</th>\n",
       "      <th>label</th>\n",
       "      <th>path</th>\n",
       "      <th>set</th>\n",
       "    </tr>\n",
       "  </thead>\n",
       "  <tbody>\n",
       "    <tr>\n",
       "      <th>4999</th>\n",
       "      <td>00001336_000.png</td>\n",
       "      <td>0</td>\n",
       "      <td>./images/images/00001336_000.png</td>\n",
       "      <td>train</td>\n",
       "    </tr>\n",
       "    <tr>\n",
       "      <th>5000</th>\n",
       "      <td>00001337_000.png</td>\n",
       "      <td>0</td>\n",
       "      <td>./images/images/00001337_000.png</td>\n",
       "      <td>train</td>\n",
       "    </tr>\n",
       "    <tr>\n",
       "      <th>5001</th>\n",
       "      <td>00001338_000.png</td>\n",
       "      <td>0</td>\n",
       "      <td>./images/images/00001338_000.png</td>\n",
       "      <td>train</td>\n",
       "    </tr>\n",
       "    <tr>\n",
       "      <th>5002</th>\n",
       "      <td>00001338_001.png</td>\n",
       "      <td>0</td>\n",
       "      <td>./images/images/00001338_001.png</td>\n",
       "      <td>train</td>\n",
       "    </tr>\n",
       "    <tr>\n",
       "      <th>5005</th>\n",
       "      <td>00001339_000.png</td>\n",
       "      <td>0</td>\n",
       "      <td>./images/images/00001339_000.png</td>\n",
       "      <td>train</td>\n",
       "    </tr>\n",
       "  </tbody>\n",
       "</table>\n",
       "</div>"
      ],
      "text/plain": [
       "                 image  label                              path    set\n",
       "4999  00001336_000.png      0  ./images/images/00001336_000.png  train\n",
       "5000  00001337_000.png      0  ./images/images/00001337_000.png  train\n",
       "5001  00001338_000.png      0  ./images/images/00001338_000.png  train\n",
       "5002  00001338_001.png      0  ./images/images/00001338_001.png  train\n",
       "5005  00001339_000.png      0  ./images/images/00001339_000.png  train"
      ]
     },
     "execution_count": 10,
     "metadata": {},
     "output_type": "execute_result"
    }
   ],
   "source": [
    "df = define_data(list_path, files, df_labels, train_id, test_id)\n",
    "df.head()"
   ]
  },
  {
   "cell_type": "code",
   "execution_count": 11,
   "metadata": {},
   "outputs": [],
   "source": [
    "train = df[df.set=='train']\n",
    "test = df[df.set=='test']"
   ]
  },
  {
   "cell_type": "code",
   "execution_count": 12,
   "metadata": {},
   "outputs": [
    {
     "data": {
      "text/plain": [
       "(48904, 10069)"
      ]
     },
     "execution_count": 12,
     "metadata": {},
     "output_type": "execute_result"
    }
   ],
   "source": [
    "len(train), len(test)"
   ]
  },
  {
   "cell_type": "code",
   "execution_count": 13,
   "metadata": {},
   "outputs": [],
   "source": [
    "X = train['path']\n",
    "y = train['label']\n",
    "X_train, X_val, y_train, y_val = train_test_split(X, y, test_size=0.1, random_state=42, stratify=y)"
   ]
  },
  {
   "cell_type": "code",
   "execution_count": 14,
   "metadata": {},
   "outputs": [
    {
     "data": {
      "text/plain": [
       "(44013, 4891)"
      ]
     },
     "execution_count": 14,
     "metadata": {},
     "output_type": "execute_result"
    }
   ],
   "source": [
    "len(X_train), len(X_val)"
   ]
  },
  {
   "cell_type": "code",
   "execution_count": 15,
   "metadata": {},
   "outputs": [
    {
     "data": {
      "text/plain": [
       "(array([0, 1]), array([43267,   746]))"
      ]
     },
     "execution_count": 15,
     "metadata": {},
     "output_type": "execute_result"
    }
   ],
   "source": [
    "np.unique(y_train, return_counts=True)"
   ]
  },
  {
   "cell_type": "markdown",
   "metadata": {},
   "source": [
    "# Dataset"
   ]
  },
  {
   "cell_type": "code",
   "execution_count": 16,
   "metadata": {},
   "outputs": [],
   "source": [
    "def preprocessing_steps(im):\n",
    "    \"\"\"\n",
    "    Pre-process image. Reshape to model input shape and normalize the data with Imagenet stats.\n",
    "    \"\"\"\n",
    "    imagenet_stats = np.array([[0.485, 0.456, 0.406], [0.229, 0.224, 0.225]])\n",
    "    im =  (im - imagenet_stats[0])/imagenet_stats[1]\n",
    "    return im"
   ]
  },
  {
   "cell_type": "code",
   "execution_count": 17,
   "metadata": {},
   "outputs": [],
   "source": [
    "def rotate_cv(im, deg, mode=cv2.BORDER_REFLECT, interpolation=cv2.INTER_AREA):\n",
    "    \"\"\" Rotates an image by deg degrees\"\"\"\n",
    "    r,c,*_ = im.shape\n",
    "    M = cv2.getRotationMatrix2D((c/2,r/2), deg, 1)\n",
    "    return cv2.warpAffine(im, M, (c,r), borderMode=mode, \n",
    "                          flags=cv2.WARP_FILL_OUTLIERS+interpolation)"
   ]
  },
  {
   "cell_type": "code",
   "execution_count": 18,
   "metadata": {},
   "outputs": [],
   "source": [
    "class ChestXRayDataset(Dataset):\n",
    " \n",
    "    def __init__(self, x, y, transform=False):\n",
    "        self.x = x\n",
    "        self.y = y\n",
    "        self.transform = transform\n",
    "        \n",
    "    def __len__(self):\n",
    "        return len(self.y)\n",
    "    \n",
    "    def __getitem__(self, idx):\n",
    "        im = cv2.imread(self.x.iloc[idx])\n",
    "        im = preprocessing_steps(im)\n",
    "        if self.transform:\n",
    "#             rdeg = random.choice(range(30))\n",
    "#             sign = random.choice([-1, 1])\n",
    "#             im = rotate_cv(im, sign * rdeg)\n",
    "            # Horizontal Flip\n",
    "            if np.random.random() > 0.5: \n",
    "                im = np.fliplr(im).copy()\n",
    "        return np.rollaxis(im, 2), self.y.iloc[idx]"
   ]
  },
  {
   "cell_type": "code",
   "execution_count": 19,
   "metadata": {},
   "outputs": [],
   "source": [
    "# # Balanced sampling data\n",
    "# class_sample_count = np.array([len(np.where(y_train==t)[0]) for t in np.unique(y_train)])\n",
    "# weight = 1. / class_sample_count\n",
    "# samples_weight = np.array([weight[t] for t in y_train])\n",
    "\n",
    "# samples_weight = torch.from_numpy(samples_weight)\n",
    "# samp = sampler.WeightedRandomSampler(samples_weight.type('torch.DoubleTensor'), len(samples_weight))"
   ]
  },
  {
   "cell_type": "code",
   "execution_count": 20,
   "metadata": {},
   "outputs": [],
   "source": [
    "# train_ds = ChestXRayDataset(X_train, y_train, transform=True)\n",
    "# valid_ds = ChestXRayDataset(X_val, y_val)\n",
    "\n",
    "# train_dl = DataLoader(train_ds, batch_size=8, sampler=samp)\n",
    "# valid_dl = DataLoader(valid_ds, batch_size=8, shuffle=False)"
   ]
  },
  {
   "cell_type": "code",
   "execution_count": 21,
   "metadata": {},
   "outputs": [],
   "source": [
    "train_ds = ChestXRayDataset(X_train, y_train, transform=True)\n",
    "valid_ds = ChestXRayDataset(X_val, y_val)\n",
    "\n",
    "train_dl = DataLoader(train_ds, batch_size=8)\n",
    "valid_dl = DataLoader(valid_ds, batch_size=8, shuffle=False)"
   ]
  },
  {
   "cell_type": "code",
   "execution_count": 22,
   "metadata": {},
   "outputs": [],
   "source": [
    "x, y = next(iter(train_dl))"
   ]
  },
  {
   "cell_type": "code",
   "execution_count": 23,
   "metadata": {},
   "outputs": [
    {
     "data": {
      "text/plain": [
       "(torch.Size([8, 3, 224, 224]), torch.Size([8]))"
      ]
     },
     "execution_count": 23,
     "metadata": {},
     "output_type": "execute_result"
    }
   ],
   "source": [
    "x.shape, y.shape"
   ]
  },
  {
   "cell_type": "code",
   "execution_count": 24,
   "metadata": {},
   "outputs": [
    {
     "data": {
      "text/plain": [
       "tensor([0, 0, 0, 0, 0, 0, 0, 0])"
      ]
     },
     "execution_count": 24,
     "metadata": {},
     "output_type": "execute_result"
    }
   ],
   "source": [
    "y"
   ]
  },
  {
   "cell_type": "markdown",
   "metadata": {},
   "source": [
    "# Model"
   ]
  },
  {
   "cell_type": "code",
   "execution_count": 25,
   "metadata": {},
   "outputs": [],
   "source": [
    "resnet = models.resnet18(pretrained=True)"
   ]
  },
  {
   "cell_type": "code",
   "execution_count": 26,
   "metadata": {},
   "outputs": [
    {
     "name": "stdout",
     "output_type": "stream",
     "text": [
      "10\n"
     ]
    }
   ],
   "source": [
    "layers = list(resnet.children())\n",
    "print(len(layers))"
   ]
  },
  {
   "cell_type": "code",
   "execution_count": 27,
   "metadata": {},
   "outputs": [
    {
     "data": {
      "text/plain": [
       "[AdaptiveAvgPool2d(output_size=(1, 1)),\n",
       " Linear(in_features=512, out_features=1000, bias=True)]"
      ]
     },
     "execution_count": 27,
     "metadata": {},
     "output_type": "execute_result"
    }
   ],
   "source": [
    "layers[-2:]"
   ]
  },
  {
   "cell_type": "code",
   "execution_count": 28,
   "metadata": {},
   "outputs": [],
   "source": [
    "class Net(nn.Module):\n",
    "    def __init__(self):\n",
    "        super(Net, self).__init__()\n",
    "        resnet = models.resnet18(pretrained=True)\n",
    "        layers = list(resnet.children())[:8]\n",
    "        self.features1 = nn.Sequential(*layers[:6])\n",
    "        self.features2 = nn.Sequential(*layers[6:])\n",
    "        self.classifier = nn.Sequential(nn.BatchNorm1d(512), nn.Linear(512, 1))\n",
    "        self.dropout = nn.Dropout(0.5)\n",
    "    \n",
    "    def forward(self, x):\n",
    "        x = self.features1(x)\n",
    "        x = self.features2(x)\n",
    "        x = F.relu(x)\n",
    "        x = nn.AdaptiveAvgPool2d((1,1))(x)\n",
    "        x = x.view(x.shape[0], -1)\n",
    "        x = self.dropout(x)\n",
    "        x = self.classifier(x)\n",
    "        return x"
   ]
  },
  {
   "cell_type": "markdown",
   "metadata": {},
   "source": [
    "# Learning rate finder"
   ]
  },
  {
   "cell_type": "code",
   "execution_count": 29,
   "metadata": {},
   "outputs": [],
   "source": [
    "def create_optimizer(model, lr0):\n",
    "    params = [{'params': model.features1.parameters(), 'lr': lr0/9},\n",
    "              {'params': model.features2.parameters(), 'lr': lr0/3},\n",
    "              {'params': model.classifier.parameters(), 'lr': lr0}]\n",
    "    return optim.Adam(params, weight_decay=1e-5)\n",
    "\n",
    "def update_optimizer(optimizer, group_lrs):\n",
    "    for i, param_group in enumerate(optimizer.param_groups):\n",
    "        param_group[\"lr\"] = group_lrs[i]\n"
   ]
  },
  {
   "cell_type": "code",
   "execution_count": 30,
   "metadata": {},
   "outputs": [],
   "source": [
    "def compute_weights(y):\n",
    "    class_sample_count = np.array([len(np.where(y==t)[0]) for t in np.unique(y)])\n",
    "    weight = 1. / class_sample_count\n",
    "    samples_weight = np.array([weight[t] for t in y])\n",
    "\n",
    "    return torch.from_numpy(samples_weight)"
   ]
  },
  {
   "cell_type": "code",
   "execution_count": 31,
   "metadata": {},
   "outputs": [],
   "source": [
    "def LR_range_finder(model, train_dl, lr_low=1e-4, lr_high=0.01, epochs=2):\n",
    "    losses = []\n",
    "    iterations = epochs * len(train_dl)\n",
    "    delta = (lr_high - lr_low)/iterations\n",
    "    lrs = [lr_low + i*delta for i in range(iterations)]\n",
    "    model.train()\n",
    "    optimizer = create_optimizer(model, lrs[0])\n",
    "    model, optimizer = amp.initialize(model, optimizer, opt_level=\"O2\", \n",
    "                                      keep_batchnorm_fp32=True, loss_scale=\"dynamic\")\n",
    "    ind = 0\n",
    "    for i in range(epochs):\n",
    "        for x, y in train_dl:\n",
    "            lr = lrs[ind]\n",
    "            update_optimizer(optimizer, [lr/9, lr/3, lr])\n",
    "            w = compute_weights(y)\n",
    "            w = w.cuda()\n",
    "            x = x.cuda().float()\n",
    "            y = y.cuda().float()\n",
    "            out = model(x)\n",
    "            loss = F.binary_cross_entropy_with_logits(out, y.unsqueeze(1), w.unsqueeze(1))\n",
    "            optimizer.zero_grad()\n",
    "            with amp.scale_loss(loss, optimizer) as scaled_loss:\n",
    "                scaled_loss.backward()\n",
    "            optimizer.step()\n",
    "            losses.append(loss.item())\n",
    "            ind +=1\n",
    "            \n",
    "    return lrs, losses"
   ]
  },
  {
   "cell_type": "code",
   "execution_count": 32,
   "metadata": {},
   "outputs": [],
   "source": [
    "# bs = 350\n",
    "# train_dl = DataLoader(train_ds, batch_size=bs, sampler=samp)\n",
    "# valid_dl = DataLoader(valid_ds, batch_size=bs)"
   ]
  },
  {
   "cell_type": "code",
   "execution_count": 33,
   "metadata": {},
   "outputs": [],
   "source": [
    "bs = 350\n",
    "train_dl = DataLoader(train_ds, batch_size=bs)\n",
    "valid_dl = DataLoader(valid_ds, batch_size=bs)"
   ]
  },
  {
   "cell_type": "code",
   "execution_count": 34,
   "metadata": {},
   "outputs": [
    {
     "name": "stdout",
     "output_type": "stream",
     "text": [
      "Selected optimization level O2:  FP16 training with FP32 batchnorm and FP32 master weights.\n",
      "\n",
      "Defaults for this optimization level are:\n",
      "enabled                : True\n",
      "opt_level              : O2\n",
      "cast_model_type        : torch.float16\n",
      "patch_torch_functions  : False\n",
      "keep_batchnorm_fp32    : True\n",
      "master_weights         : True\n",
      "loss_scale             : dynamic\n",
      "Processing user overrides (additional kwargs that are not None)...\n",
      "After processing overrides, optimization options are:\n",
      "enabled                : True\n",
      "opt_level              : O2\n",
      "cast_model_type        : torch.float16\n",
      "patch_torch_functions  : False\n",
      "keep_batchnorm_fp32    : True\n",
      "master_weights         : True\n",
      "loss_scale             : dynamic\n"
     ]
    }
   ],
   "source": [
    "model = Net().cuda()\n",
    "lrs, losses = LR_range_finder(model, train_dl, lr_low=1e-5, lr_high=0.1)"
   ]
  },
  {
   "cell_type": "code",
   "execution_count": 35,
   "metadata": {},
   "outputs": [
    {
     "data": {
      "image/png": "[encoded data removed]",
      "text/plain": [
       "<Figure size 432x288 with 1 Axes>"
      ]
     },
     "metadata": {
      "needs_background": "light"
     },
     "output_type": "display_data"
    }
   ],
   "source": [
    "plt.plot(lrs, losses)\n",
    "plt.show()"
   ]
  },
  {
   "cell_type": "code",
   "execution_count": null,
   "metadata": {},
   "outputs": [],
   "source": []
  },
  {
   "cell_type": "markdown",
   "metadata": {},
   "source": [
    "# Training"
   ]
  },
  {
   "cell_type": "code",
   "execution_count": 36,
   "metadata": {},
   "outputs": [],
   "source": [
    "def cosine_segment(start_lr, end_lr, iterations):\n",
    "    i = np.arange(iterations)\n",
    "    c_i = 1 + np.cos(i*np.pi/iterations)\n",
    "    return end_lr + (start_lr - end_lr)/2 *c_i\n",
    "\n",
    "def get_cosine_triangular_lr(max_lr, iterations):\n",
    "    min_start, min_end = max_lr/25, max_lr/(25*1e4)\n",
    "    iter1 = int(0.3*iterations)\n",
    "    iter2 = iterations - iter1\n",
    "    segs = [cosine_segment(min_start, max_lr, iter1), cosine_segment(max_lr, min_end, iter2)]\n",
    "    return np.concatenate(segs)"
   ]
  },
  {
   "cell_type": "code",
   "execution_count": 37,
   "metadata": {},
   "outputs": [
    {
     "data": {
      "image/png": "[encoded data removed]",
      "text/plain": [
       "<Figure size 432x288 with 1 Axes>"
      ]
     },
     "metadata": {
      "needs_background": "light"
     },
     "output_type": "display_data"
    }
   ],
   "source": [
    "N = 2000\n",
    "lr = get_cosine_triangular_lr(0.001, N)\n",
    "plt.plot(list(range(N)), lr)\n",
    "plt.show()"
   ]
  },
  {
   "cell_type": "code",
   "execution_count": 38,
   "metadata": {},
   "outputs": [],
   "source": [
    "def save_model(m, p): \n",
    "    torch.save(m.state_dict(), p)\n",
    "    \n",
    "def load_model(m, p): \n",
    "    m.load_state_dict(torch.load(p))"
   ]
  },
  {
   "cell_type": "code",
   "execution_count": 39,
   "metadata": {},
   "outputs": [],
   "source": [
    "def train_one_epoch(model, optimizer, train_dl, lrs, idx):\n",
    "    model.train()\n",
    "    total = 0\n",
    "    sum_loss = 0\n",
    "    for x, y in train_dl:\n",
    "        lr = lrs[idx]\n",
    "        update_optimizer(optimizer, [lr/9, lr/3, lr])\n",
    "        batch = y.shape[0]\n",
    "        w = compute_weights(y)\n",
    "        w = w.cuda()\n",
    "        x = x.cuda().float()\n",
    "        y = y.cuda().float()\n",
    "        out = model(x)\n",
    "        loss = F.binary_cross_entropy_with_logits(out, y.unsqueeze(1), w.unsqueeze(1))\n",
    "#         loss = F.binary_cross_entropy_with_logits(out, y.unsqueeze(1))\n",
    "        optimizer.zero_grad()\n",
    "        with amp.scale_loss(loss, optimizer) as scaled_loss:\n",
    "                scaled_loss.backward()\n",
    "        optimizer.step()\n",
    "        idx += 1\n",
    "        total += batch\n",
    "        sum_loss += batch*(loss.item())\n",
    "    return sum_loss/total, idx"
   ]
  },
  {
   "cell_type": "code",
   "execution_count": 40,
   "metadata": {},
   "outputs": [],
   "source": [
    "def train_triangular_policy(model, train_dl, valid_dl, max_lr=0.04, epochs=5):\n",
    "    list_train_loss = []\n",
    "    list_val_loss = []\n",
    "    list_precision = []\n",
    "    list_recall = []\n",
    "    list_cm = []\n",
    "    idx = 0\n",
    "    iterations = epochs*len(train_dl)\n",
    "    lrs = get_cosine_triangular_lr(max_lr, iterations)\n",
    "    optimizer = create_optimizer(model, lrs[0])\n",
    "    model, optimizer = amp.initialize(model, optimizer, opt_level=\"O2\", \n",
    "                                      keep_batchnorm_fp32=True, loss_scale=\"dynamic\")\n",
    "    prev_val_f1 = 0.0\n",
    "    for i in range(epochs):\n",
    "        train_loss, idx = train_one_epoch(model, optimizer, train_dl, lrs, idx)\n",
    "        val_loss, val_f1, p, r, cm = val_metrics(model, valid_dl)\n",
    "        list_train_loss.append(train_loss)\n",
    "        list_val_loss.append(val_loss)\n",
    "        list_precision.append(p)\n",
    "        list_recall.append(r)\n",
    "        list_cm.append(cm)\n",
    "        print(\"train_loss %.3f val_loss %.3f val_f1 %.3f val_p %.3f val_r %.3f\" % (train_loss, val_loss,\n",
    "                                                                                   val_f1, p, r))\n",
    "        if val_f1 >= prev_val_f1: \n",
    "            prev_val_f1 = val_f1\n",
    "            path = \"models/model_weighted_resnet18_{0:.0f}.pth\".format(100*val_f1)\n",
    "            save_model(model, path)\n",
    "            print(path)\n",
    "    return list_train_loss, list_val_loss, list_precision, list_recall, list_cm"
   ]
  },
  {
   "cell_type": "code",
   "execution_count": 41,
   "metadata": {},
   "outputs": [],
   "source": [
    "def precision(confusion_matrix):\n",
    "    col = confusion_matrix[:, 1]\n",
    "    return confusion_matrix[1, 1] * 1.0 / col.sum()\n",
    "\n",
    "def recall(confusion_matrix):\n",
    "    row = confusion_matrix[1, :]\n",
    "    return confusion_matrix[1, 1] * 1.0 / row.sum()"
   ]
  },
  {
   "cell_type": "code",
   "execution_count": 42,
   "metadata": {},
   "outputs": [],
   "source": [
    "def val_metrics(model, valid_dl, eps=1e-7):\n",
    "    model.eval()\n",
    "    total = 0\n",
    "    sum_loss = 0\n",
    "    correct = 0 \n",
    "    confusion_mat = 0\n",
    "    with torch.no_grad():\n",
    "        for x, y in valid_dl:\n",
    "            batch = y.shape[0]\n",
    "            w = compute_weights(y)\n",
    "            w = w.cuda()\n",
    "            x = x.cuda().float()\n",
    "            y = y.cuda().float()\n",
    "            out = model(x)\n",
    "            pred = (out > 0.0).long()\n",
    "            y = y.unsqueeze(1)\n",
    "            correct += pred.eq(y.data).sum().item()\n",
    "#             loss = F.binary_cross_entropy_with_logits(out, y)\n",
    "            loss = F.binary_cross_entropy_with_logits(out, y, w.unsqueeze(1))\n",
    "            sum_loss += batch*(loss.item())\n",
    "            total += batch\n",
    "            confusion_mat += confusion_matrix(y.cpu().detach().numpy(),\n",
    "                                              pred.cpu().detach().numpy(),\n",
    "                                              [0, 1])\n",
    "    \n",
    "    p = precision(confusion_mat)\n",
    "    r = recall(confusion_mat)\n",
    "    f1 = 2* (p * r) / (p + r + eps)\n",
    "    if np.isnan(f1):\n",
    "        f1 = 0.0\n",
    "    return sum_loss/total, f1, p, r, confusion_mat"
   ]
  },
  {
   "cell_type": "code",
   "execution_count": 43,
   "metadata": {},
   "outputs": [],
   "source": [
    "model = Net().cuda()"
   ]
  },
  {
   "cell_type": "code",
   "execution_count": 44,
   "metadata": {},
   "outputs": [
    {
     "name": "stderr",
     "output_type": "stream",
     "text": [
      "/home/ubuntu/anaconda3/envs/pytorch_p36/lib/python3.6/site-packages/ipykernel_launcher.py:3: RuntimeWarning: invalid value encountered in double_scalars\n",
      "  This is separate from the ipykernel package so we can avoid doing imports until\n"
     ]
    },
    {
     "data": {
      "text/plain": [
       "0.0"
      ]
     },
     "execution_count": 44,
     "metadata": {},
     "output_type": "execute_result"
    }
   ],
   "source": [
    "loss, f1, p, r, confusion_mat = val_metrics(model, valid_dl)\n",
    "f1"
   ]
  },
  {
   "cell_type": "code",
   "execution_count": 45,
   "metadata": {},
   "outputs": [
    {
     "data": {
      "text/plain": [
       "array([[4808,    0],\n",
       "       [  83,    0]])"
      ]
     },
     "execution_count": 45,
     "metadata": {},
     "output_type": "execute_result"
    }
   ],
   "source": [
    "confusion_mat"
   ]
  },
  {
   "cell_type": "code",
   "execution_count": 46,
   "metadata": {},
   "outputs": [
    {
     "data": {
      "text/plain": [
       "nan"
      ]
     },
     "execution_count": 46,
     "metadata": {},
     "output_type": "execute_result"
    }
   ],
   "source": [
    "p"
   ]
  },
  {
   "cell_type": "code",
   "execution_count": 47,
   "metadata": {},
   "outputs": [
    {
     "data": {
      "text/plain": [
       "0.0"
      ]
     },
     "execution_count": 47,
     "metadata": {},
     "output_type": "execute_result"
    }
   ],
   "source": [
    "r"
   ]
  },
  {
   "cell_type": "code",
   "execution_count": 48,
   "metadata": {},
   "outputs": [],
   "source": [
    "model = Net().cuda()"
   ]
  },
  {
   "cell_type": "code",
   "execution_count": 49,
   "metadata": {},
   "outputs": [
    {
     "name": "stdout",
     "output_type": "stream",
     "text": [
      "Selected optimization level O2:  FP16 training with FP32 batchnorm and FP32 master weights.\n",
      "\n",
      "Defaults for this optimization level are:\n",
      "enabled                : True\n",
      "opt_level              : O2\n",
      "cast_model_type        : torch.float16\n",
      "patch_torch_functions  : False\n",
      "keep_batchnorm_fp32    : True\n",
      "master_weights         : True\n",
      "loss_scale             : dynamic\n",
      "Processing user overrides (additional kwargs that are not None)...\n",
      "After processing overrides, optimization options are:\n",
      "enabled                : True\n",
      "opt_level              : O2\n",
      "cast_model_type        : torch.float16\n",
      "patch_torch_functions  : False\n",
      "keep_batchnorm_fp32    : True\n",
      "master_weights         : True\n",
      "loss_scale             : dynamic\n",
      "train_loss 0.004 val_loss 0.003 val_f1 0.059 val_p 0.031 val_r 0.807\n",
      "models/model_weighted_resnet18_6.pth\n",
      "train_loss 0.003 val_loss 0.004 val_f1 0.075 val_p 0.040 val_r 0.614\n",
      "models/model_weighted_resnet18_8.pth\n",
      "train_loss 0.003 val_loss 0.004 val_f1 0.056 val_p 0.029 val_r 0.783\n",
      "train_loss 0.003 val_loss 0.003 val_f1 0.100 val_p 0.054 val_r 0.663\n",
      "models/model_weighted_resnet18_10.pth\n",
      "train_loss 0.003 val_loss 0.004 val_f1 0.087 val_p 0.048 val_r 0.494\n",
      "train_loss 0.002 val_loss 0.003 val_f1 0.093 val_p 0.050 val_r 0.675\n",
      "train_loss 0.002 val_loss 0.006 val_f1 0.130 val_p 0.093 val_r 0.217\n",
      "models/model_weighted_resnet18_13.pth\n",
      "train_loss 0.002 val_loss 0.006 val_f1 0.136 val_p 0.092 val_r 0.265\n",
      "models/model_weighted_resnet18_14.pth\n",
      "train_loss 0.001 val_loss 0.006 val_f1 0.116 val_p 0.076 val_r 0.253\n",
      "train_loss 0.001 val_loss 0.006 val_f1 0.144 val_p 0.096 val_r 0.289\n",
      "models/model_weighted_resnet18_14.pth\n",
      "train_loss 0.001 val_loss 0.005 val_f1 0.132 val_p 0.078 val_r 0.434\n",
      "train_loss 0.001 val_loss 0.007 val_f1 0.109 val_p 0.079 val_r 0.181\n",
      "train_loss 0.000 val_loss 0.008 val_f1 0.106 val_p 0.088 val_r 0.133\n",
      "train_loss 0.000 val_loss 0.008 val_f1 0.111 val_p 0.090 val_r 0.145\n",
      "train_loss 0.000 val_loss 0.008 val_f1 0.099 val_p 0.084 val_r 0.120\n"
     ]
    }
   ],
   "source": [
    "list_train_loss, list_val_loss, list_precision, list_recall, list_cm = train_triangular_policy(model,\n",
    "                                                                                               train_dl,\n",
    "                                                                                               valid_dl,\n",
    "                                                                                               max_lr=0.001,\n",
    "                                                                                               epochs=15)"
   ]
  },
  {
   "cell_type": "code",
   "execution_count": 50,
   "metadata": {},
   "outputs": [
    {
     "data": {
      "text/html": [
       "<div>\n",
       "<style scoped>\n",
       "    .dataframe tbody tr th:only-of-type {\n",
       "        vertical-align: middle;\n",
       "    }\n",
       "\n",
       "    .dataframe tbody tr th {\n",
       "        vertical-align: top;\n",
       "    }\n",
       "\n",
       "    .dataframe thead th {\n",
       "        text-align: right;\n",
       "    }\n",
       "</style>\n",
       "<table border=\"1\" class=\"dataframe\">\n",
       "  <thead>\n",
       "    <tr style=\"text-align: right;\">\n",
       "      <th></th>\n",
       "      <th>train_loss</th>\n",
       "      <th>val_loss</th>\n",
       "      <th>precision</th>\n",
       "      <th>recall</th>\n",
       "    </tr>\n",
       "  </thead>\n",
       "  <tbody>\n",
       "    <tr>\n",
       "      <th>0</th>\n",
       "      <td>0.003793</td>\n",
       "      <td>0.003484</td>\n",
       "      <td>0.030748</td>\n",
       "      <td>0.807229</td>\n",
       "    </tr>\n",
       "    <tr>\n",
       "      <th>1</th>\n",
       "      <td>0.003211</td>\n",
       "      <td>0.003512</td>\n",
       "      <td>0.040189</td>\n",
       "      <td>0.614458</td>\n",
       "    </tr>\n",
       "    <tr>\n",
       "      <th>2</th>\n",
       "      <td>0.002933</td>\n",
       "      <td>0.003640</td>\n",
       "      <td>0.029200</td>\n",
       "      <td>0.783133</td>\n",
       "    </tr>\n",
       "    <tr>\n",
       "      <th>3</th>\n",
       "      <td>0.002862</td>\n",
       "      <td>0.003292</td>\n",
       "      <td>0.054134</td>\n",
       "      <td>0.662651</td>\n",
       "    </tr>\n",
       "    <tr>\n",
       "      <th>4</th>\n",
       "      <td>0.002584</td>\n",
       "      <td>0.003803</td>\n",
       "      <td>0.047953</td>\n",
       "      <td>0.493976</td>\n",
       "    </tr>\n",
       "    <tr>\n",
       "      <th>5</th>\n",
       "      <td>0.002409</td>\n",
       "      <td>0.003358</td>\n",
       "      <td>0.050179</td>\n",
       "      <td>0.674699</td>\n",
       "    </tr>\n",
       "    <tr>\n",
       "      <th>6</th>\n",
       "      <td>0.001913</td>\n",
       "      <td>0.005961</td>\n",
       "      <td>0.092784</td>\n",
       "      <td>0.216867</td>\n",
       "    </tr>\n",
       "    <tr>\n",
       "      <th>7</th>\n",
       "      <td>0.001656</td>\n",
       "      <td>0.006288</td>\n",
       "      <td>0.091667</td>\n",
       "      <td>0.265060</td>\n",
       "    </tr>\n",
       "    <tr>\n",
       "      <th>8</th>\n",
       "      <td>0.001413</td>\n",
       "      <td>0.005975</td>\n",
       "      <td>0.075540</td>\n",
       "      <td>0.253012</td>\n",
       "    </tr>\n",
       "    <tr>\n",
       "      <th>9</th>\n",
       "      <td>0.001278</td>\n",
       "      <td>0.006001</td>\n",
       "      <td>0.096000</td>\n",
       "      <td>0.289157</td>\n",
       "    </tr>\n",
       "    <tr>\n",
       "      <th>10</th>\n",
       "      <td>0.000820</td>\n",
       "      <td>0.005234</td>\n",
       "      <td>0.077754</td>\n",
       "      <td>0.433735</td>\n",
       "    </tr>\n",
       "    <tr>\n",
       "      <th>11</th>\n",
       "      <td>0.000607</td>\n",
       "      <td>0.007132</td>\n",
       "      <td>0.078534</td>\n",
       "      <td>0.180723</td>\n",
       "    </tr>\n",
       "    <tr>\n",
       "      <th>12</th>\n",
       "      <td>0.000418</td>\n",
       "      <td>0.007798</td>\n",
       "      <td>0.088000</td>\n",
       "      <td>0.132530</td>\n",
       "    </tr>\n",
       "    <tr>\n",
       "      <th>13</th>\n",
       "      <td>0.000313</td>\n",
       "      <td>0.007899</td>\n",
       "      <td>0.090226</td>\n",
       "      <td>0.144578</td>\n",
       "    </tr>\n",
       "    <tr>\n",
       "      <th>14</th>\n",
       "      <td>0.000259</td>\n",
       "      <td>0.007996</td>\n",
       "      <td>0.084034</td>\n",
       "      <td>0.120482</td>\n",
       "    </tr>\n",
       "  </tbody>\n",
       "</table>\n",
       "</div>"
      ],
      "text/plain": [
       "    train_loss  val_loss  precision    recall\n",
       "0     0.003793  0.003484   0.030748  0.807229\n",
       "1     0.003211  0.003512   0.040189  0.614458\n",
       "2     0.002933  0.003640   0.029200  0.783133\n",
       "3     0.002862  0.003292   0.054134  0.662651\n",
       "4     0.002584  0.003803   0.047953  0.493976\n",
       "5     0.002409  0.003358   0.050179  0.674699\n",
       "6     0.001913  0.005961   0.092784  0.216867\n",
       "7     0.001656  0.006288   0.091667  0.265060\n",
       "8     0.001413  0.005975   0.075540  0.253012\n",
       "9     0.001278  0.006001   0.096000  0.289157\n",
       "10    0.000820  0.005234   0.077754  0.433735\n",
       "11    0.000607  0.007132   0.078534  0.180723\n",
       "12    0.000418  0.007798   0.088000  0.132530\n",
       "13    0.000313  0.007899   0.090226  0.144578\n",
       "14    0.000259  0.007996   0.084034  0.120482"
      ]
     },
     "execution_count": 50,
     "metadata": {},
     "output_type": "execute_result"
    }
   ],
   "source": [
    "df = pd.DataFrame({'train_loss': list_train_loss, 'val_loss': list_val_loss,\n",
    "                   'precision': list_precision, 'recall': list_recall})\n",
    "df"
   ]
  },
  {
   "cell_type": "code",
   "execution_count": 51,
   "metadata": {},
   "outputs": [],
   "source": [
    "df.to_csv('metrics.csv', index=False)"
   ]
  },
  {
   "cell_type": "code",
   "execution_count": 54,
   "metadata": {},
   "outputs": [
    {
     "data": {
      "text/plain": [
       "[array([[2696, 2112],\n",
       "        [  16,   67]]),\n",
       " array([[3590, 1218],\n",
       "        [  32,   51]]),\n",
       " array([[2647, 2161],\n",
       "        [  18,   65]]),\n",
       " array([[3847,  961],\n",
       "        [  28,   55]]),\n",
       " array([[3994,  814],\n",
       "        [  42,   41]]),\n",
       " array([[3748, 1060],\n",
       "        [  27,   56]]),\n",
       " array([[4632,  176],\n",
       "        [  65,   18]]),\n",
       " array([[4590,  218],\n",
       "        [  61,   22]]),\n",
       " array([[4551,  257],\n",
       "        [  62,   21]]),\n",
       " array([[4582,  226],\n",
       "        [  59,   24]]),\n",
       " array([[4381,  427],\n",
       "        [  47,   36]]),\n",
       " array([[4632,  176],\n",
       "        [  68,   15]]),\n",
       " array([[4694,  114],\n",
       "        [  72,   11]]),\n",
       " array([[4687,  121],\n",
       "        [  71,   12]]),\n",
       " array([[4699,  109],\n",
       "        [  73,   10]])]"
      ]
     },
     "execution_count": 54,
     "metadata": {},
     "output_type": "execute_result"
    }
   ],
   "source": [
    "list_cm"
   ]
  },
  {
   "cell_type": "markdown",
   "metadata": {},
   "source": [
    "# Test results"
   ]
  },
  {
   "cell_type": "code",
   "execution_count": 55,
   "metadata": {},
   "outputs": [],
   "source": [
    "X_test = test['path']\n",
    "y_test = test['label']"
   ]
  },
  {
   "cell_type": "code",
   "execution_count": 56,
   "metadata": {},
   "outputs": [],
   "source": [
    "test_ds = ChestXRayDataset(X_test, y_test)\n",
    "test_dl = DataLoader(test_ds, batch_size=bs, shuffle=False)"
   ]
  },
  {
   "cell_type": "code",
   "execution_count": 57,
   "metadata": {},
   "outputs": [],
   "source": [
    "model = Net().cuda()\n",
    "load_model(model, \"models/model_weighted_resnet18_14.pth\")"
   ]
  },
  {
   "cell_type": "code",
   "execution_count": 58,
   "metadata": {},
   "outputs": [],
   "source": [
    "test_loss, test_f1, test_p, test_r, test_confusion_mat = val_metrics(model, test_dl)"
   ]
  },
  {
   "cell_type": "code",
   "execution_count": 59,
   "metadata": {},
   "outputs": [
    {
     "data": {
      "text/plain": [
       "0.20434088042954351"
      ]
     },
     "execution_count": 59,
     "metadata": {},
     "output_type": "execute_result"
    }
   ],
   "source": [
    "test_f1"
   ]
  },
  {
   "cell_type": "code",
   "execution_count": 60,
   "metadata": {},
   "outputs": [
    {
     "data": {
      "text/plain": [
       "0.14275147928994084"
      ]
     },
     "execution_count": 60,
     "metadata": {},
     "output_type": "execute_result"
    }
   ],
   "source": [
    "test_p"
   ]
  },
  {
   "cell_type": "code",
   "execution_count": 61,
   "metadata": {},
   "outputs": [
    {
     "data": {
      "text/plain": [
       "0.35940409683426444"
      ]
     },
     "execution_count": 61,
     "metadata": {},
     "output_type": "execute_result"
    }
   ],
   "source": [
    "test_r"
   ]
  },
  {
   "cell_type": "code",
   "execution_count": 62,
   "metadata": {},
   "outputs": [
    {
     "data": {
      "text/plain": [
       "array([[8373, 1159],\n",
       "       [ 344,  193]])"
      ]
     },
     "execution_count": 62,
     "metadata": {},
     "output_type": "execute_result"
    }
   ],
   "source": [
    "test_confusion_mat"
   ]
  },
  {
   "cell_type": "code",
   "execution_count": null,
   "metadata": {},
   "outputs": [],
   "source": []
  },
  {
   "cell_type": "code",
   "execution_count": 63,
   "metadata": {},
   "outputs": [],
   "source": [
    "model = Net().cuda()\n",
    "load_model(model, 'models/model_weighted_resnet18_10.pth')"
   ]
  },
  {
   "cell_type": "code",
   "execution_count": 64,
   "metadata": {},
   "outputs": [],
   "source": [
    "test_loss, test_f1, test_p, test_r, test_confusion_mat = val_metrics(model, test_dl)"
   ]
  },
  {
   "cell_type": "code",
   "execution_count": 65,
   "metadata": {},
   "outputs": [
    {
     "data": {
      "text/plain": [
       "0.1659371078541784"
      ]
     },
     "execution_count": 65,
     "metadata": {},
     "output_type": "execute_result"
    }
   ],
   "source": [
    "test_f1"
   ]
  },
  {
   "cell_type": "code",
   "execution_count": 66,
   "metadata": {},
   "outputs": [
    {
     "data": {
      "text/plain": [
       "0.09289374025395411"
      ]
     },
     "execution_count": 66,
     "metadata": {},
     "output_type": "execute_result"
    }
   ],
   "source": [
    "test_p"
   ]
  },
  {
   "cell_type": "code",
   "execution_count": 67,
   "metadata": {},
   "outputs": [
    {
     "data": {
      "text/plain": [
       "0.776536312849162"
      ]
     },
     "execution_count": 67,
     "metadata": {},
     "output_type": "execute_result"
    }
   ],
   "source": [
    "test_r"
   ]
  },
  {
   "cell_type": "code",
   "execution_count": 68,
   "metadata": {},
   "outputs": [
    {
     "data": {
      "text/plain": [
       "array([[5460, 4072],\n",
       "       [ 120,  417]])"
      ]
     },
     "execution_count": 68,
     "metadata": {},
     "output_type": "execute_result"
    }
   ],
   "source": [
    "test_confusion_mat"
   ]
  },
  {
   "cell_type": "code",
   "execution_count": null,
   "metadata": {},
   "outputs": [],
   "source": []
  },
  {
   "cell_type": "code",
   "execution_count": 69,
   "metadata": {},
   "outputs": [],
   "source": [
    "model = Net().cuda()\n",
    "load_model(model, 'models/model_weighted_resnet18_6.pth')"
   ]
  },
  {
   "cell_type": "code",
   "execution_count": 70,
   "metadata": {},
   "outputs": [],
   "source": [
    "test_loss, test_f1, test_p, test_r, test_confusion_mat = val_metrics(model, test_dl)"
   ]
  },
  {
   "cell_type": "code",
   "execution_count": 71,
   "metadata": {},
   "outputs": [
    {
     "data": {
      "text/plain": [
       "0.12805925389996417"
      ]
     },
     "execution_count": 71,
     "metadata": {},
     "output_type": "execute_result"
    }
   ],
   "source": [
    "test_f1"
   ]
  },
  {
   "cell_type": "code",
   "execution_count": 72,
   "metadata": {},
   "outputs": [
    {
     "data": {
      "text/plain": [
       "0.06892623184277984"
      ]
     },
     "execution_count": 72,
     "metadata": {},
     "output_type": "execute_result"
    }
   ],
   "source": [
    "test_p"
   ]
  },
  {
   "cell_type": "code",
   "execution_count": 73,
   "metadata": {},
   "outputs": [
    {
     "data": {
      "text/plain": [
       "0.9013035381750466"
      ]
     },
     "execution_count": 73,
     "metadata": {},
     "output_type": "execute_result"
    }
   ],
   "source": [
    "test_r"
   ]
  },
  {
   "cell_type": "code",
   "execution_count": 74,
   "metadata": {},
   "outputs": [
    {
     "data": {
      "text/plain": [
       "array([[2994, 6538],\n",
       "       [  53,  484]])"
      ]
     },
     "execution_count": 74,
     "metadata": {},
     "output_type": "execute_result"
    }
   ],
   "source": [
    "test_confusion_mat"
   ]
  },
  {
   "cell_type": "code",
   "execution_count": null,
   "metadata": {},
   "outputs": [],
   "source": []
  }
 ],
 "metadata": {
  "kernelspec": {
   "display_name": "Python 3",
   "language": "python",
   "name": "python3"
  },
  "language_info": {
   "codemirror_mode": {
    "name": "ipython",
    "version": 3
   },
   "file_extension": ".py",
   "mimetype": "text/x-python",
   "name": "python",
   "nbconvert_exporter": "python",
   "pygments_lexer": "ipython3",
   "version": "3.6.10"
  }
 },
 "nbformat": 4,
 "nbformat_minor": 2
}
